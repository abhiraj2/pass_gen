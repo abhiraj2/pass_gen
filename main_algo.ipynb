{
 "cells": [
  {
   "cell_type": "code",
   "execution_count": 18,
   "metadata": {},
   "outputs": [],
   "source": [
    "import random\n",
    "import numpy as np"
   ]
  },
  {
   "cell_type": "code",
   "execution_count": 15,
   "metadata": {},
   "outputs": [],
   "source": [
    "alpha_dic = {\n",
    "    'a' : 0,\n",
    "    'b' : 1,\n",
    "    'c' : 2,\n",
    "    'd' : 3,\n",
    "    'e' : 4,\n",
    "    'f' : 5,\n",
    "    'g' : 6,\n",
    "    'h' : 7,\n",
    "    'i' : 8,\n",
    "    'j' : 9,\n",
    "    'k' : 10,\n",
    "    'l' : 11,\n",
    "    'm' : 12,\n",
    "    'n' : 13,\n",
    "    'o' : 14,\n",
    "    'p' : 15,\n",
    "    'q' : 16,\n",
    "    'r' : 17,\n",
    "    's' : 18,\n",
    "    't' : 19,\n",
    "    'u' : 20,\n",
    "    'v' : 21,\n",
    "    'w' : 22,\n",
    "    'x' : 23,\n",
    "    'y' : 24,\n",
    "    'z' : 25,\n",
    "}\n",
    "\n",
    "def reverse_dic(mydict, val):\n",
    "    return list(mydict.keys())[list(mydict.values()).index(val)]"
   ]
  },
  {
   "cell_type": "code",
   "execution_count": 7,
   "metadata": {},
   "outputs": [],
   "source": [
    "fi_ph = input().lower()\n",
    "sec_ph = input().lower()\n",
    "pin = \"\""
   ]
  },
  {
   "cell_type": "code",
   "execution_count": 10,
   "metadata": {},
   "outputs": [
    {
     "name": "stdout",
     "output_type": "stream",
     "text": [
      "lookfortheworst\n",
      "robotrobotrobot\n"
     ]
    }
   ],
   "source": [
    "i=0\n",
    "while len(sec_ph) < len(fi_ph):\n",
    "    if i<len(sec_ph):\n",
    "        sec_ph += sec_ph[i]\n",
    "        i += 1\n",
    "    else:\n",
    "        i = 0\n",
    "\n",
    "print(fi_ph)\n",
    "print(sec_ph)"
   ]
  },
  {
   "cell_type": "code",
   "execution_count": 40,
   "metadata": {},
   "outputs": [],
   "source": [
    "def gen_pas(fi_ph, sec_ph):\n",
    "    pin = \"\"\n",
    "    for i in range(len(fi_ph)):\n",
    "        res = (alpha_dic[fi_ph[i]] + alpha_dic[sec_ph[i]])%26\n",
    "        choice = np.random.random_sample(2)\n",
    "        if choice[0] > 0.3:\n",
    "            if choice[1] > 0.5:\n",
    "                pin += reverse_dic(alpha_dic, res).upper()\n",
    "            else: \n",
    "                pin += reverse_dic(alpha_dic, res).lower()\n",
    "        else:\n",
    "            pin += str(res)\n",
    "    return pin"
   ]
  },
  {
   "cell_type": "code",
   "execution_count": 47,
   "metadata": {},
   "outputs": [
    {
     "data": {
      "text/plain": [
       "'22PyyfFu21xncsgm'"
      ]
     },
     "execution_count": 47,
     "metadata": {},
     "output_type": "execute_result"
    }
   ],
   "source": [
    "gen_pas(fi_ph, sec_ph)"
   ]
  },
  {
   "cell_type": "code",
   "execution_count": 6,
   "metadata": {},
   "outputs": [],
   "source": [
    "from flask_restful import Api, Resource, reqparse\n",
    "from flask import request, jsonify, Flask"
   ]
  },
  {
   "cell_type": "code",
   "execution_count": 5,
   "metadata": {},
   "outputs": [],
   "source": [
    "app = Flask(__name__)\n",
    "api = Api(app)"
   ]
  },
  {
   "cell_type": "code",
   "execution_count": 7,
   "metadata": {},
   "outputs": [],
   "source": [
    "class GenPass(Resource):\n",
    "    def post(self):\n",
    "        parser = reqparse.RequestParser()  \n",
    "        parser.add_argument('phrase', required=True)\n",
    "        parser.add_argument('key', required=True)\n",
    "        args = parser.parse_args()\n",
    "        args['phrase'] =  args['phrase'].lower()\n",
    "        args['key'] =  args['key'].lower()\n"
   ]
  },
  {
   "cell_type": "code",
   "execution_count": null,
   "metadata": {},
   "outputs": [],
   "source": []
  }
 ],
 "metadata": {
  "kernelspec": {
   "display_name": "Python 3.9.7 ('base')",
   "language": "python",
   "name": "python3"
  },
  "language_info": {
   "codemirror_mode": {
    "name": "ipython",
    "version": 3
   },
   "file_extension": ".py",
   "mimetype": "text/x-python",
   "name": "python",
   "nbconvert_exporter": "python",
   "pygments_lexer": "ipython3",
   "version": "3.9.7"
  },
  "orig_nbformat": 4,
  "vscode": {
   "interpreter": {
    "hash": "9a86dddfa9e85a700fae0950173636b5327c5e12218f023e14f85e6b39b2f71e"
   }
  }
 },
 "nbformat": 4,
 "nbformat_minor": 2
}
